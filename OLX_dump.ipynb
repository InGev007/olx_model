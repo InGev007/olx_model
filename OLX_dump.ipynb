{
  "cells": [
    {
      "cell_type": "markdown",
      "metadata": {
        "id": "view-in-github",
        "colab_type": "text"
      },
      "source": [
        "<a href=\"https://colab.research.google.com/github/InGev007/olx_model/blob/main/OLX_dump.ipynb\" target=\"_parent\"><img src=\"https://colab.research.google.com/assets/colab-badge.svg\" alt=\"Open In Colab\"/></a>"
      ]
    },
    {
      "cell_type": "markdown",
      "source": [
        "#Модель прогнозування ціни на аренду житла у Запоріжжі"
      ],
      "metadata": {
        "id": "236kJ44ZoC_t"
      }
    },
    {
      "cell_type": "markdown",
      "source": [
        "##Основні налаштування"
      ],
      "metadata": {
        "id": "IYCRm9CV-U-U"
      }
    },
    {
      "cell_type": "code",
      "source": [
        "from google.colab import drive\n",
        "drive.mount('/content/drive/')"
      ],
      "metadata": {
        "colab": {
          "base_uri": "https://localhost:8080/"
        },
        "id": "4udX_-H-NI2y",
        "outputId": "9b46f196-adef-42fc-96bc-6e665696add4"
      },
      "execution_count": null,
      "outputs": [
        {
          "output_type": "stream",
          "name": "stdout",
          "text": [
            "Drive already mounted at /content/drive/; to attempt to forcibly remount, call drive.mount(\"/content/drive/\", force_remount=True).\n"
          ]
        }
      ]
    },
    {
      "cell_type": "code",
      "source": [
        "#Парсимо данні - 1 чи працюємо з існуючим файлом - 0?\n",
        "##*Парсинг данних займає приблизно 10-20 хвилин\n",
        "parsing = 0\n",
        "# Якщо parsing = 0 вкажіть путь до json файлу на google disk\n",
        "json_file = '/content/drive/MyDrive/учёба/olx_dataset/olx_full-20-04-23 18-19.json'\n",
        "# Якщо parsing = 1 вкажіть путь де знаходится існуюча БД або вона буде створена на google disk\n",
        "db_patch = '/content/drive/MyDrive/учёба/olx_dataset/'\n",
        "\n",
        "#Данні для передбачення\n",
        "#['Район міста': 0-6,' Поверх': int, 'Поверховість будинку': int, 'Загальна площа': int або float, 'Площа кухні': int або float, 'Кількість кімнат': int]\n",
        "#Район міста: {'Олександрiвський': 0, 'Дніпровський': 1, 'Вознесенівський': 2, 'Шевченківський': 3, 'Хортицький': 4, 'Комунарський': 5, 'Заводський': 6}\n",
        "pred_data=[6, 9, 9, 33, 6, 1]"
      ],
      "metadata": {
        "id": "hc5p8lLi-TAi"
      },
      "execution_count": null,
      "outputs": []
    },
    {
      "cell_type": "markdown",
      "source": [
        "##Парсинг данних з OLX"
      ],
      "metadata": {
        "id": "GGvEHEQioWvI"
      }
    },
    {
      "cell_type": "markdown",
      "source": [
        "###Функції"
      ],
      "metadata": {
        "id": "g-eTqMiZ2MNA"
      }
    },
    {
      "cell_type": "markdown",
      "source": [
        "####Функції роботи з БД"
      ],
      "metadata": {
        "id": "TMhtxzHm1aE7"
      }
    },
    {
      "cell_type": "code",
      "execution_count": null,
      "metadata": {
        "id": "kor2ZJtFYjup"
      },
      "outputs": [],
      "source": [
        "import sqlite3\n",
        "\n",
        "\n",
        "# Указываем имя базы данных\n",
        "db_name= db_patch+'olx.db'\n",
        "\n",
        "if parsing == 1:\n",
        "  with sqlite3.connect(db_name) as  conn:\n",
        "    cur = conn.cursor()\n",
        "    cur.execute(\"SELECT name FROM sqlite_master WHERE type='table' AND name='apartment_rental'\")\n",
        "    table_exists = cur.fetchone()\n",
        "    if not table_exists:\n",
        "      cur.execute('''CREATE TABLE apartment_rental (\n",
        "                      id INTEGER PRIMARY KEY,\n",
        "                      url TEXT UNIQUE NOT NULL,\n",
        "                      title TEXT NOT NULL,\n",
        "                      price REAL NOT NULL,\n",
        "                      city TEXT NOT NULL,\n",
        "                      region TEXT NOT NULL,\n",
        "                      additional_data TEXT\n",
        "                  )''')\n",
        "      \n",
        "      \n",
        "def add_data(data=dict):\n",
        "  with sqlite3.connect(db_name) as  conn:\n",
        "    # print(data)\n",
        "    cur = conn.cursor()\n",
        "    url = data['url']\n",
        "    title = data['title']\n",
        "    price = data['price']\n",
        "    city = data['city']\n",
        "    region = data['area']\n",
        "    del data['url']\n",
        "    del data['title']\n",
        "    del data['price']\n",
        "    del data['city']\n",
        "    del data['area']\n",
        "    additional_data = data\n",
        "    \n",
        "    cur.execute('''INSERT OR REPLACE INTO apartment_rental (url, title, price, city, region, additional_data) \n",
        "                    VALUES (?, ?, ?, ?, ?, ?)''', (url, title, price, city, region, str(additional_data)))"
      ]
    },
    {
      "cell_type": "markdown",
      "source": [
        "####Функції збереження данних з БД у JSON"
      ],
      "metadata": {
        "id": "ATm_xJnU1mCj"
      }
    },
    {
      "cell_type": "code",
      "execution_count": null,
      "metadata": {
        "id": "600rS90eumoi"
      },
      "outputs": [],
      "source": [
        "import datetime \n",
        "\n",
        "\n",
        "def save_json():\n",
        "  global json_file\n",
        "  x = datetime.datetime.now()\n",
        "  with sqlite3.connect(db_name) as  conn:\n",
        "    cur = conn.cursor()\n",
        "    cur.execute(\"SELECT * FROM apartment_rental\")\n",
        "    results=cur.fetchall()\n",
        "  data_to_json=[]\n",
        "  for data in results:\n",
        "    temp={}\n",
        "    temp['url']=data[1]\n",
        "    temp['title']=data[2]\n",
        "    temp['price']=data[3]\n",
        "    temp['city']=data[4]\n",
        "    temp['area']=data[5]\n",
        "    temps= eval(data[6])\n",
        "    for i in temps:\n",
        "      temp[i]=temps[i]\n",
        "    data_to_json.append(temp)\n",
        "  json_object = json.dumps(data_to_json)\n",
        "  data=x.strftime(\"-%d-%m-%y %H-%M\")\n",
        "  json_file = f\"{db_patch}olx_full{data}.json\"\n",
        "  with open(json_file, \"w\") as outfile:\n",
        "      outfile.write(json_object)"
      ]
    },
    {
      "cell_type": "markdown",
      "source": [
        "####Функції парсера"
      ],
      "metadata": {
        "id": "fceW7ROZ110b"
      }
    },
    {
      "cell_type": "code",
      "source": [
        "import requests\n",
        "import time\n",
        "import random\n",
        "from bs4 import BeautifulSoup\n",
        "\n",
        "def get_site(url, i=0):\n",
        "  page = requests.get(url)\n",
        "  if page.status_code == 200:\n",
        "    soup = BeautifulSoup(page.content, 'html.parser')\n",
        "    return soup\n",
        "  else:\n",
        "    if i>10:\n",
        "      raise \"Error to get site\"\n",
        "    else:\n",
        "      i+=1\n",
        "      time.sleep(random.randint(5,20))\n",
        "      get_site(url, i)\n",
        "\n",
        "def parse_list(url, res, i=0):\n",
        "  soup = get_site(url)\n",
        "  results = soup.find_all('div', attrs={'data-cy': 'l-card'})\n",
        "  res=[]\n",
        "  for result in results:\n",
        "    item = {}\n",
        "    try:\n",
        "      #url обьявления\n",
        "      item['url']='https://www.olx.ua' + result.find('a')['href']\n",
        "      #Тема\n",
        "      item['title']=result.find('h6').text\n",
        "      #Цена\n",
        "      item['price']=int(result.find('p', attrs={'data-testid': 'ad-price'}).text.split(' г')[0].replace(' ', ''))\n",
        "      #Локация/дата\n",
        "      temp=result.find('p', attrs={'data-testid': 'location-date'}).text\n",
        "      item['city']=temp.split(' -')[0].split(', ')[0]\n",
        "      item['area']=temp.split(' -')[0].split(', ')[1] \n",
        "    except Exception as e:\n",
        "      print(result)\n",
        "      print(f'{e}-не получилось 1, попытка №{i}')\n",
        "      time.sleep(random.randint(5,20))\n",
        "      i+=1\n",
        "      parse_list(url,res,i)\n",
        "    res.append(item)\n",
        "  return res\n",
        "\n",
        "def parse_page(url, res, i=0):\n",
        "  pass"
      ],
      "metadata": {
        "id": "Ff27RwlA90an"
      },
      "execution_count": null,
      "outputs": []
    },
    {
      "cell_type": "markdown",
      "source": [
        "###Основний цикл парсера"
      ],
      "metadata": {
        "id": "4OxyJszC1-sb"
      }
    },
    {
      "cell_type": "code",
      "execution_count": null,
      "metadata": {
        "id": "GZMKdCbdgswF"
      },
      "outputs": [],
      "source": [
        "import requests\n",
        "from bs4 import BeautifulSoup\n",
        "import time\n",
        "import random\n",
        "import json\n",
        "\n",
        "if parsing == 1:\n",
        "  num_page=1\n",
        "  res = []\n",
        "  while num_page<26:\n",
        "    # print(num_page)\n",
        "    url = f'https://www.olx.ua/d/uk/nedvizhimost/kvartiry/dolgosrochnaya-arenda-kvartir/zaporozhe/?currency=UAH&page={num_page}'\n",
        "    for item in parse_list(url,res):\n",
        "      res.append(item)\n",
        "    # time.sleep(random.randint(0,2))\n",
        "    num_page+=1\n",
        "\n",
        "  for obj in res:\n",
        "    if len(obj)==5:\n",
        "      # print(obj)\n",
        "      url=obj['url']\n",
        "      soup = get_site(url)\n",
        "      try:\n",
        "        results=soup.find('ul', class_=\"css-sfcl1s\").find_all('p')\n",
        "        for result in results:\n",
        "          if len(result.text.split(': '))!=1:\n",
        "            obj[result.text.split(': ')[0]]=result.text.split(': ')[1]\n",
        "      except Exception as e:\n",
        "        print(f'{e}- не получилось 2 - {url}')\n",
        "        # time.sleep(random.randint(0,2))\n",
        "        continue\n",
        "      # time.sleep(random.randint(0,2))\n",
        "\n",
        "  print(res)\n",
        "  for data in res:\n",
        "    add_data(data)\n",
        "  save_json()"
      ]
    },
    {
      "cell_type": "markdown",
      "source": [
        "##Обробка отриманих данних"
      ],
      "metadata": {
        "id": "ymorOKu_ofw2"
      }
    },
    {
      "cell_type": "markdown",
      "source": [
        "###Завантаження датасету"
      ],
      "metadata": {
        "id": "ClGK_Fxf5lLq"
      }
    },
    {
      "cell_type": "code",
      "execution_count": null,
      "metadata": {
        "colab": {
          "base_uri": "https://localhost:8080/",
          "height": 698
        },
        "id": "nvVPJC1De2fJ",
        "outputId": "55dd30f3-ca96-43f4-b9ee-9659c1c5b72f"
      },
      "outputs": [
        {
          "output_type": "execute_result",
          "data": {
            "text/plain": [
              "                                                 url  \\\n",
              "0  https://www.olx.ua/d/uk/obyavlenie/arenda-1h-k...   \n",
              "1  https://www.olx.ua/d/uk/obyavlenie/mozhno-zaez...   \n",
              "2  https://www.olx.ua/d/uk/obyavlenie/sdaetsya-kv...   \n",
              "3  https://www.olx.ua/d/uk/obyavlenie/svobodnaya-...   \n",
              "4  https://www.olx.ua/d/uk/obyavlenie/8000-grn-sd...   \n",
              "\n",
              "                                               title  price       city  \\\n",
              "0  Аренда 1х ком. кв по ул. Глиссерная (Александр...   4000  Запоріжжя   \n",
              "1  Можно заезжать! 3-комн квартира в ЖК ,,Ренесса...  19500  Запоріжжя   \n",
              "2                            Сдается квартира! Люкс!  12000  Запоріжжя   \n",
              "3  Свободная! 2-ком. квартира + гараж на Набережной!   6500  Запоріжжя   \n",
              "4  8000 грн Сдам 2 ком квартиру ул Фортечная с те...   8000  Запоріжжя   \n",
              "\n",
              "               area       Тип будинку  Поверх  Поверховість Загальна площа  \\\n",
              "0  Олександрiвський          Хрущовка     1.0           5.0          30 м²   \n",
              "1      Дніпровський  Царський будинок     1.0           4.0          82 м²   \n",
              "2  Олександрiвський  Царський будинок     1.0           2.0          58 м²   \n",
              "3  Олександрiвський             Чешка     4.0           9.0          52 м²   \n",
              "4  Олександрiвський             Чешка     6.0           9.0          50 м²   \n",
              "\n",
              "  Площа кухні  ... Меблювання  \\\n",
              "0        6 м²  ...  З меблями   \n",
              "1        6 м²  ...  З меблями   \n",
              "2        7 м²  ...  З меблями   \n",
              "3        9 м²  ...  З меблями   \n",
              "4        8 м²  ...  З меблями   \n",
              "\n",
              "                                    Побутова техніка  \\\n",
              "0  Електрочайник, Холодильник, Праска, Мультиварк...   \n",
              "1  Посудомийна машина, Холодильник, Духова шафа, ...   \n",
              "2  Посудомийна машина, Електрочайник, Холодильник...   \n",
              "3                 Холодильник, Плита, Пральна машина   \n",
              "4                 Холодильник, Плита, Пральна машина   \n",
              "\n",
              "                             Мультимедіа  \\\n",
              "0  Швидкісний інтернет, Телевізор, Wi-Fi   \n",
              "1                       Телевізор, Wi-Fi   \n",
              "2                       Телевізор, Wi-Fi   \n",
              "3                                    NaN   \n",
              "4                                    NaN   \n",
              "\n",
              "                                             Комфорт  \\\n",
              "0  Кондиціонер, Ванна, Меблі на кухні, Паркувальн...   \n",
              "1  Кондиціонер, Балкон, лоджія, Ванна, Підігрів п...   \n",
              "2  Кондиціонер, Ванна, Підігрів підлоги, Меблі на...   \n",
              "3        Балкон, лоджія, Ванна, Ліфт, Меблі на кухні   \n",
              "4                        Балкон, лоджія, Ванна, Ліфт   \n",
              "\n",
              "                                         Комунікації  \\\n",
              "0  Асфальтована дорога, Центральна каналізація, Е...   \n",
              "1  Асфальтована дорога, Центральна каналізація, Е...   \n",
              "2  Асфальтована дорога, Центральна каналізація, Е...   \n",
              "3  Центральна каналізація, Електрика, Газ, Центра...   \n",
              "4                                     Електрика, Газ   \n",
              "\n",
              "                      Інфраструктура (до 500 метрів)         Планування  \\\n",
              "0  Відділення банку, банкомат, Аптека, Лікарня, п...                NaN   \n",
              "1  Парк, зелена зона, Ресторан, кафе, Магазин, кі...             Студія   \n",
              "2  Магазин, кіоск, Супермаркет, ТРЦ, Зупинка тран...             Студія   \n",
              "3  Відділення банку, банкомат, Аптека, Парк, зеле...  Суміжна, прохідна   \n",
              "4  Центр міста, Аптека, Ринок, Парк, зелена зона,...          Роздільна   \n",
              "\n",
              "  Ландшафт (до 1 км.)       Додатково Домашні улюбленці  \n",
              "0                 NaN             NaN               NaN  \n",
              "1                 NaN             NaN               NaN  \n",
              "2                Парк   Тільки сім'ям               NaN  \n",
              "3                Парк             NaN              Ні 🥺  \n",
              "4                 NaN  Можна з дітьми               NaN  \n",
              "\n",
              "[5 rows x 25 columns]"
            ],
            "text/html": [
              "\n",
              "  <div id=\"df-4d934352-29bd-4324-9660-8c0d53cbf295\">\n",
              "    <div class=\"colab-df-container\">\n",
              "      <div>\n",
              "<style scoped>\n",
              "    .dataframe tbody tr th:only-of-type {\n",
              "        vertical-align: middle;\n",
              "    }\n",
              "\n",
              "    .dataframe tbody tr th {\n",
              "        vertical-align: top;\n",
              "    }\n",
              "\n",
              "    .dataframe thead th {\n",
              "        text-align: right;\n",
              "    }\n",
              "</style>\n",
              "<table border=\"1\" class=\"dataframe\">\n",
              "  <thead>\n",
              "    <tr style=\"text-align: right;\">\n",
              "      <th></th>\n",
              "      <th>url</th>\n",
              "      <th>title</th>\n",
              "      <th>price</th>\n",
              "      <th>city</th>\n",
              "      <th>area</th>\n",
              "      <th>Тип будинку</th>\n",
              "      <th>Поверх</th>\n",
              "      <th>Поверховість</th>\n",
              "      <th>Загальна площа</th>\n",
              "      <th>Площа кухні</th>\n",
              "      <th>...</th>\n",
              "      <th>Меблювання</th>\n",
              "      <th>Побутова техніка</th>\n",
              "      <th>Мультимедіа</th>\n",
              "      <th>Комфорт</th>\n",
              "      <th>Комунікації</th>\n",
              "      <th>Інфраструктура (до 500 метрів)</th>\n",
              "      <th>Планування</th>\n",
              "      <th>Ландшафт (до 1 км.)</th>\n",
              "      <th>Додатково</th>\n",
              "      <th>Домашні улюбленці</th>\n",
              "    </tr>\n",
              "  </thead>\n",
              "  <tbody>\n",
              "    <tr>\n",
              "      <th>0</th>\n",
              "      <td>https://www.olx.ua/d/uk/obyavlenie/arenda-1h-k...</td>\n",
              "      <td>Аренда 1х ком. кв по ул. Глиссерная (Александр...</td>\n",
              "      <td>4000</td>\n",
              "      <td>Запоріжжя</td>\n",
              "      <td>Олександрiвський</td>\n",
              "      <td>Хрущовка</td>\n",
              "      <td>1.0</td>\n",
              "      <td>5.0</td>\n",
              "      <td>30 м²</td>\n",
              "      <td>6 м²</td>\n",
              "      <td>...</td>\n",
              "      <td>З меблями</td>\n",
              "      <td>Електрочайник, Холодильник, Праска, Мультиварк...</td>\n",
              "      <td>Швидкісний інтернет, Телевізор, Wi-Fi</td>\n",
              "      <td>Кондиціонер, Ванна, Меблі на кухні, Паркувальн...</td>\n",
              "      <td>Асфальтована дорога, Центральна каналізація, Е...</td>\n",
              "      <td>Відділення банку, банкомат, Аптека, Лікарня, п...</td>\n",
              "      <td>NaN</td>\n",
              "      <td>NaN</td>\n",
              "      <td>NaN</td>\n",
              "      <td>NaN</td>\n",
              "    </tr>\n",
              "    <tr>\n",
              "      <th>1</th>\n",
              "      <td>https://www.olx.ua/d/uk/obyavlenie/mozhno-zaez...</td>\n",
              "      <td>Можно заезжать! 3-комн квартира в ЖК ,,Ренесса...</td>\n",
              "      <td>19500</td>\n",
              "      <td>Запоріжжя</td>\n",
              "      <td>Дніпровський</td>\n",
              "      <td>Царський будинок</td>\n",
              "      <td>1.0</td>\n",
              "      <td>4.0</td>\n",
              "      <td>82 м²</td>\n",
              "      <td>6 м²</td>\n",
              "      <td>...</td>\n",
              "      <td>З меблями</td>\n",
              "      <td>Посудомийна машина, Холодильник, Духова шафа, ...</td>\n",
              "      <td>Телевізор, Wi-Fi</td>\n",
              "      <td>Кондиціонер, Балкон, лоджія, Ванна, Підігрів п...</td>\n",
              "      <td>Асфальтована дорога, Центральна каналізація, Е...</td>\n",
              "      <td>Парк, зелена зона, Ресторан, кафе, Магазин, кі...</td>\n",
              "      <td>Студія</td>\n",
              "      <td>NaN</td>\n",
              "      <td>NaN</td>\n",
              "      <td>NaN</td>\n",
              "    </tr>\n",
              "    <tr>\n",
              "      <th>2</th>\n",
              "      <td>https://www.olx.ua/d/uk/obyavlenie/sdaetsya-kv...</td>\n",
              "      <td>Сдается квартира! Люкс!</td>\n",
              "      <td>12000</td>\n",
              "      <td>Запоріжжя</td>\n",
              "      <td>Олександрiвський</td>\n",
              "      <td>Царський будинок</td>\n",
              "      <td>1.0</td>\n",
              "      <td>2.0</td>\n",
              "      <td>58 м²</td>\n",
              "      <td>7 м²</td>\n",
              "      <td>...</td>\n",
              "      <td>З меблями</td>\n",
              "      <td>Посудомийна машина, Електрочайник, Холодильник...</td>\n",
              "      <td>Телевізор, Wi-Fi</td>\n",
              "      <td>Кондиціонер, Ванна, Підігрів підлоги, Меблі на...</td>\n",
              "      <td>Асфальтована дорога, Центральна каналізація, Е...</td>\n",
              "      <td>Магазин, кіоск, Супермаркет, ТРЦ, Зупинка тран...</td>\n",
              "      <td>Студія</td>\n",
              "      <td>Парк</td>\n",
              "      <td>Тільки сім'ям</td>\n",
              "      <td>NaN</td>\n",
              "    </tr>\n",
              "    <tr>\n",
              "      <th>3</th>\n",
              "      <td>https://www.olx.ua/d/uk/obyavlenie/svobodnaya-...</td>\n",
              "      <td>Свободная! 2-ком. квартира + гараж на Набережной!</td>\n",
              "      <td>6500</td>\n",
              "      <td>Запоріжжя</td>\n",
              "      <td>Олександрiвський</td>\n",
              "      <td>Чешка</td>\n",
              "      <td>4.0</td>\n",
              "      <td>9.0</td>\n",
              "      <td>52 м²</td>\n",
              "      <td>9 м²</td>\n",
              "      <td>...</td>\n",
              "      <td>З меблями</td>\n",
              "      <td>Холодильник, Плита, Пральна машина</td>\n",
              "      <td>NaN</td>\n",
              "      <td>Балкон, лоджія, Ванна, Ліфт, Меблі на кухні</td>\n",
              "      <td>Центральна каналізація, Електрика, Газ, Центра...</td>\n",
              "      <td>Відділення банку, банкомат, Аптека, Парк, зеле...</td>\n",
              "      <td>Суміжна, прохідна</td>\n",
              "      <td>Парк</td>\n",
              "      <td>NaN</td>\n",
              "      <td>Ні 🥺</td>\n",
              "    </tr>\n",
              "    <tr>\n",
              "      <th>4</th>\n",
              "      <td>https://www.olx.ua/d/uk/obyavlenie/8000-grn-sd...</td>\n",
              "      <td>8000 грн Сдам 2 ком квартиру ул Фортечная с те...</td>\n",
              "      <td>8000</td>\n",
              "      <td>Запоріжжя</td>\n",
              "      <td>Олександрiвський</td>\n",
              "      <td>Чешка</td>\n",
              "      <td>6.0</td>\n",
              "      <td>9.0</td>\n",
              "      <td>50 м²</td>\n",
              "      <td>8 м²</td>\n",
              "      <td>...</td>\n",
              "      <td>З меблями</td>\n",
              "      <td>Холодильник, Плита, Пральна машина</td>\n",
              "      <td>NaN</td>\n",
              "      <td>Балкон, лоджія, Ванна, Ліфт</td>\n",
              "      <td>Електрика, Газ</td>\n",
              "      <td>Центр міста, Аптека, Ринок, Парк, зелена зона,...</td>\n",
              "      <td>Роздільна</td>\n",
              "      <td>NaN</td>\n",
              "      <td>Можна з дітьми</td>\n",
              "      <td>NaN</td>\n",
              "    </tr>\n",
              "  </tbody>\n",
              "</table>\n",
              "<p>5 rows × 25 columns</p>\n",
              "</div>\n",
              "      <button class=\"colab-df-convert\" onclick=\"convertToInteractive('df-4d934352-29bd-4324-9660-8c0d53cbf295')\"\n",
              "              title=\"Convert this dataframe to an interactive table.\"\n",
              "              style=\"display:none;\">\n",
              "        \n",
              "  <svg xmlns=\"http://www.w3.org/2000/svg\" height=\"24px\"viewBox=\"0 0 24 24\"\n",
              "       width=\"24px\">\n",
              "    <path d=\"M0 0h24v24H0V0z\" fill=\"none\"/>\n",
              "    <path d=\"M18.56 5.44l.94 2.06.94-2.06 2.06-.94-2.06-.94-.94-2.06-.94 2.06-2.06.94zm-11 1L8.5 8.5l.94-2.06 2.06-.94-2.06-.94L8.5 2.5l-.94 2.06-2.06.94zm10 10l.94 2.06.94-2.06 2.06-.94-2.06-.94-.94-2.06-.94 2.06-2.06.94z\"/><path d=\"M17.41 7.96l-1.37-1.37c-.4-.4-.92-.59-1.43-.59-.52 0-1.04.2-1.43.59L10.3 9.45l-7.72 7.72c-.78.78-.78 2.05 0 2.83L4 21.41c.39.39.9.59 1.41.59.51 0 1.02-.2 1.41-.59l7.78-7.78 2.81-2.81c.8-.78.8-2.07 0-2.86zM5.41 20L4 18.59l7.72-7.72 1.47 1.35L5.41 20z\"/>\n",
              "  </svg>\n",
              "      </button>\n",
              "      \n",
              "  <style>\n",
              "    .colab-df-container {\n",
              "      display:flex;\n",
              "      flex-wrap:wrap;\n",
              "      gap: 12px;\n",
              "    }\n",
              "\n",
              "    .colab-df-convert {\n",
              "      background-color: #E8F0FE;\n",
              "      border: none;\n",
              "      border-radius: 50%;\n",
              "      cursor: pointer;\n",
              "      display: none;\n",
              "      fill: #1967D2;\n",
              "      height: 32px;\n",
              "      padding: 0 0 0 0;\n",
              "      width: 32px;\n",
              "    }\n",
              "\n",
              "    .colab-df-convert:hover {\n",
              "      background-color: #E2EBFA;\n",
              "      box-shadow: 0px 1px 2px rgba(60, 64, 67, 0.3), 0px 1px 3px 1px rgba(60, 64, 67, 0.15);\n",
              "      fill: #174EA6;\n",
              "    }\n",
              "\n",
              "    [theme=dark] .colab-df-convert {\n",
              "      background-color: #3B4455;\n",
              "      fill: #D2E3FC;\n",
              "    }\n",
              "\n",
              "    [theme=dark] .colab-df-convert:hover {\n",
              "      background-color: #434B5C;\n",
              "      box-shadow: 0px 1px 3px 1px rgba(0, 0, 0, 0.15);\n",
              "      filter: drop-shadow(0px 1px 2px rgba(0, 0, 0, 0.3));\n",
              "      fill: #FFFFFF;\n",
              "    }\n",
              "  </style>\n",
              "\n",
              "      <script>\n",
              "        const buttonEl =\n",
              "          document.querySelector('#df-4d934352-29bd-4324-9660-8c0d53cbf295 button.colab-df-convert');\n",
              "        buttonEl.style.display =\n",
              "          google.colab.kernel.accessAllowed ? 'block' : 'none';\n",
              "\n",
              "        async function convertToInteractive(key) {\n",
              "          const element = document.querySelector('#df-4d934352-29bd-4324-9660-8c0d53cbf295');\n",
              "          const dataTable =\n",
              "            await google.colab.kernel.invokeFunction('convertToInteractive',\n",
              "                                                     [key], {});\n",
              "          if (!dataTable) return;\n",
              "\n",
              "          const docLinkHtml = 'Like what you see? Visit the ' +\n",
              "            '<a target=\"_blank\" href=https://colab.research.google.com/notebooks/data_table.ipynb>data table notebook</a>'\n",
              "            + ' to learn more about interactive tables.';\n",
              "          element.innerHTML = '';\n",
              "          dataTable['output_type'] = 'display_data';\n",
              "          await google.colab.output.renderOutput(dataTable, element);\n",
              "          const docLink = document.createElement('div');\n",
              "          docLink.innerHTML = docLinkHtml;\n",
              "          element.appendChild(docLink);\n",
              "        }\n",
              "      </script>\n",
              "    </div>\n",
              "  </div>\n",
              "  "
            ]
          },
          "metadata": {},
          "execution_count": 87
        }
      ],
      "source": [
        "import pandas as pd\n",
        "\n",
        "df=pd.read_json(json_file)\n",
        "df.head()"
      ]
    },
    {
      "cell_type": "markdown",
      "source": [
        "###Аналіз кількості та типів данних у датасеті"
      ],
      "metadata": {
        "id": "kZ-n5UBPqdry"
      }
    },
    {
      "cell_type": "code",
      "execution_count": null,
      "metadata": {
        "colab": {
          "base_uri": "https://localhost:8080/"
        },
        "id": "W5-Z7y7ifrgU",
        "outputId": "4455de34-2181-442f-f281-df84b66433a5"
      },
      "outputs": [
        {
          "output_type": "stream",
          "name": "stdout",
          "text": [
            "<class 'pandas.core.frame.DataFrame'>\n",
            "RangeIndex: 2318 entries, 0 to 2317\n",
            "Data columns (total 25 columns):\n",
            " #   Column                          Non-Null Count  Dtype  \n",
            "---  ------                          --------------  -----  \n",
            " 0   url                             2318 non-null   object \n",
            " 1   title                           2318 non-null   object \n",
            " 2   price                           2318 non-null   int64  \n",
            " 3   city                            2318 non-null   object \n",
            " 4   area                            2318 non-null   object \n",
            " 5   Тип будинку                     1329 non-null   object \n",
            " 6   Поверх                          2311 non-null   float64\n",
            " 7   Поверховість                    2311 non-null   float64\n",
            " 8   Загальна площа                  2311 non-null   object \n",
            " 9   Площа кухні                     2311 non-null   object \n",
            " 10  Тип стін                        1347 non-null   object \n",
            " 11  Кількість кімнат                2311 non-null   object \n",
            " 12  Cанвузол                        1635 non-null   object \n",
            " 13  Опалення                        1469 non-null   object \n",
            " 14  Ремонт                          1494 non-null   object \n",
            " 15  Меблювання                      1632 non-null   object \n",
            " 16  Побутова техніка                1377 non-null   object \n",
            " 17  Мультимедіа                     1133 non-null   object \n",
            " 18  Комфорт                         1285 non-null   object \n",
            " 19  Комунікації                     1103 non-null   object \n",
            " 20  Інфраструктура (до 500 метрів)  1154 non-null   object \n",
            " 21  Планування                      1400 non-null   object \n",
            " 22  Ландшафт (до 1 км.)             704 non-null    object \n",
            " 23  Додатково                       401 non-null    object \n",
            " 24  Домашні улюбленці               745 non-null    object \n",
            "dtypes: float64(2), int64(1), object(22)\n",
            "memory usage: 452.9+ KB\n"
          ]
        }
      ],
      "source": [
        "df.info()"
      ]
    },
    {
      "cell_type": "markdown",
      "source": [
        "###Аналіз розподілу ціни"
      ],
      "metadata": {
        "id": "kH-as-9wq1i2"
      }
    },
    {
      "cell_type": "code",
      "source": [
        "import seaborn as sns\n",
        "\n",
        "sns.displot(df, x='price', kde=True)"
      ],
      "metadata": {
        "colab": {
          "base_uri": "https://localhost:8080/",
          "height": 524
        },
        "id": "cxb0RJp7gLgb",
        "outputId": "7eeaff1c-70b2-4129-e992-80af31cd29d0"
      },
      "execution_count": null,
      "outputs": [
        {
          "output_type": "execute_result",
          "data": {
            "text/plain": [
              "<seaborn.axisgrid.FacetGrid at 0x7ff0ebdc24f0>"
            ]
          },
          "metadata": {},
          "execution_count": 89
        },
        {
          "output_type": "display_data",
          "data": {
            "text/plain": [
              "<Figure size 500x500 with 1 Axes>"
            ],
            "image/png": "[encoded data removed]"
          },
          "metadata": {}
        }
      ]
    },
    {
      "cell_type": "markdown",
      "source": [
        "####Нормалізація ціни"
      ],
      "metadata": {
        "id": "2iHJ0zoxq_rL"
      }
    },
    {
      "cell_type": "code",
      "source": [
        "df = df.loc[(df['price'] <= 20000)]\n",
        "sns.displot(df, x='price', kde=True)"
      ],
      "metadata": {
        "colab": {
          "base_uri": "https://localhost:8080/",
          "height": 524
        },
        "id": "Hoxh6X2fgUs3",
        "outputId": "f25f7c43-0bf1-4348-f99c-2864a5c0e150"
      },
      "execution_count": null,
      "outputs": [
        {
          "output_type": "execute_result",
          "data": {
            "text/plain": [
              "<seaborn.axisgrid.FacetGrid at 0x7ff0eb171e80>"
            ]
          },
          "metadata": {},
          "execution_count": 90
        },
        {
          "output_type": "display_data",
          "data": {
            "text/plain": [
              "<Figure size 500x500 with 1 Axes>"
            ],
            "image/png": "[encoded data removed]"
          },
          "metadata": {}
        }
      ]
    },
    {
      "cell_type": "markdown",
      "source": [
        "###Приведення данних до числових"
      ],
      "metadata": {
        "id": "sQvtrgHgrO-f"
      }
    },
    {
      "cell_type": "markdown",
      "source": [
        "####Основні данні"
      ],
      "metadata": {
        "id": "ZUzDRstlrwsF"
      }
    },
    {
      "cell_type": "code",
      "source": [
        "#Так як кількість кімнат освновополагаючі данні видаляємо строки де вони відсутні\n",
        "df = df.dropna(subset ='Кількість кімнат')\n",
        "#Обрізаємо числові данні та перетворюємо у числові\n",
        "df['Кількість кімнат'] = df['Кількість кімнат'].str.split(' к').str[0]\n",
        "df['Кількість кімнат'] = df['Кількість кімнат'].str.split('+').str[0]\n",
        "df['Кількість кімнат'] = df['Кількість кімнат'].astype(int)\n",
        "df['Кількість кімнат'].unique()"
      ],
      "metadata": {
        "colab": {
          "base_uri": "https://localhost:8080/"
        },
        "id": "_T8EzGRVMaf5",
        "outputId": "281d368c-cb0d-42e6-ab10-fa2ba093c82f"
      },
      "execution_count": null,
      "outputs": [
        {
          "output_type": "stream",
          "name": "stderr",
          "text": [
            "<ipython-input-91-b7ec566a54b0>:4: SettingWithCopyWarning: \n",
            "A value is trying to be set on a copy of a slice from a DataFrame.\n",
            "Try using .loc[row_indexer,col_indexer] = value instead\n",
            "\n",
            "See the caveats in the documentation: https://pandas.pydata.org/pandas-docs/stable/user_guide/indexing.html#returning-a-view-versus-a-copy\n",
            "  df['Кількість кімнат'] = df['Кількість кімнат'].str.split(' к').str[0]\n",
            "<ipython-input-91-b7ec566a54b0>:5: SettingWithCopyWarning: \n",
            "A value is trying to be set on a copy of a slice from a DataFrame.\n",
            "Try using .loc[row_indexer,col_indexer] = value instead\n",
            "\n",
            "See the caveats in the documentation: https://pandas.pydata.org/pandas-docs/stable/user_guide/indexing.html#returning-a-view-versus-a-copy\n",
            "  df['Кількість кімнат'] = df['Кількість кімнат'].str.split('+').str[0]\n",
            "<ipython-input-91-b7ec566a54b0>:6: SettingWithCopyWarning: \n",
            "A value is trying to be set on a copy of a slice from a DataFrame.\n",
            "Try using .loc[row_indexer,col_indexer] = value instead\n",
            "\n",
            "See the caveats in the documentation: https://pandas.pydata.org/pandas-docs/stable/user_guide/indexing.html#returning-a-view-versus-a-copy\n",
            "  df['Кількість кімнат'] = df['Кількість кімнат'].astype(int)\n"
          ]
        },
        {
          "output_type": "execute_result",
          "data": {
            "text/plain": [
              "array([1, 3, 2, 4, 5])"
            ]
          },
          "metadata": {},
          "execution_count": 91
        }
      ]
    },
    {
      "cell_type": "code",
      "source": [
        "#Поверх та поверховість перетворюємо в int\n",
        "df['Поверх'] = df['Поверх'].astype(int)\n",
        "df['Поверховість'] = df['Поверховість'].astype(int)"
      ],
      "metadata": {
        "id": "zasOSUgfYjF1",
        "colab": {
          "base_uri": "https://localhost:8080/"
        },
        "outputId": "8ecd61ad-32c0-4d7a-e455-a91141f50b90"
      },
      "execution_count": null,
      "outputs": [
        {
          "output_type": "stream",
          "name": "stderr",
          "text": [
            "<ipython-input-92-c36d953a52b6>:2: SettingWithCopyWarning: \n",
            "A value is trying to be set on a copy of a slice from a DataFrame.\n",
            "Try using .loc[row_indexer,col_indexer] = value instead\n",
            "\n",
            "See the caveats in the documentation: https://pandas.pydata.org/pandas-docs/stable/user_guide/indexing.html#returning-a-view-versus-a-copy\n",
            "  df['Поверх'] = df['Поверх'].astype(int)\n",
            "<ipython-input-92-c36d953a52b6>:3: SettingWithCopyWarning: \n",
            "A value is trying to be set on a copy of a slice from a DataFrame.\n",
            "Try using .loc[row_indexer,col_indexer] = value instead\n",
            "\n",
            "See the caveats in the documentation: https://pandas.pydata.org/pandas-docs/stable/user_guide/indexing.html#returning-a-view-versus-a-copy\n",
            "  df['Поверховість'] = df['Поверховість'].astype(int)\n"
          ]
        }
      ]
    },
    {
      "cell_type": "code",
      "source": [
        "#Замінюємо райони на числові значення та створюємо словник для подальшого використання\n",
        "my_ar = {'Олександрiвський': 0, 'Дніпровський': 1, 'Вознесенівський': 2, 'Шевченківський': 3, 'Хортицький': 4, 'Комунарський': 5, 'Заводський': 6}\n",
        "for ar in df['area'].unique():\n",
        "  if ar in my_ar:\n",
        "    df = df.replace(ar, my_ar[ar])\n",
        "  else:\n",
        "    df = df.replace(ar, 7)\n",
        "df['area'].unique()"
      ],
      "metadata": {
        "colab": {
          "base_uri": "https://localhost:8080/"
        },
        "id": "TSneRZrLwNvu",
        "outputId": "cdacd4b1-d134-46dc-cdc8-523977dee750"
      },
      "execution_count": null,
      "outputs": [
        {
          "output_type": "execute_result",
          "data": {
            "text/plain": [
              "array([0, 1, 2, 3, 4, 5, 6])"
            ]
          },
          "metadata": {},
          "execution_count": 93
        }
      ]
    },
    {
      "cell_type": "code",
      "source": [
        "#заменяем 'Загальна площа' на числовое значение\n",
        "df['Загальна площа'] = df['Загальна площа'].str.split(' м').str[0]\n",
        "df['Загальна площа'] = df['Загальна площа'].astype(float)\n",
        "# df['Загальна площа'] = df['Загальна площа'].fillna(df['Загальна площа'].mean())\n",
        "print(df['Загальна площа'].unique())"
      ],
      "metadata": {
        "colab": {
          "base_uri": "https://localhost:8080/"
        },
        "id": "nEJsas_wGtK2",
        "outputId": "aabebcbf-6b9b-410b-9e78-61daf80507b9"
      },
      "execution_count": null,
      "outputs": [
        {
          "output_type": "stream",
          "name": "stdout",
          "text": [
            "[ 30.    82.    58.    52.    50.    69.    45.    15.    63.    38.\n",
            "  33.    55.    57.    47.    65.    90.    87.    28.    20.    35.\n",
            "  40.    42.    41.    34.    70.    67.    56.    78.    32.    62.\n",
            "  85.    68.    46.    43.    25.    54.    64.    48.    22.    27.52\n",
            "  53.    31.    59.    51.    36.    44.   100.    74.   103.    49.\n",
            "  80.    37.    18.    60.    29.   150.   240.    72.    83.    98.\n",
            "  27.    24.    39.    91.    66.    24.5  120.    93.    77.    47.7\n",
            "  76.   158.    37.4   75.   156.    79.    71.    95.     4.1   86.\n",
            "  33.14 105.    17.    31.73  16.   151.   110.    10.    26.    97.\n",
            "  73.    21.    61.    33.93  35.2   26.75  36.7   54.3 ]\n"
          ]
        }
      ]
    },
    {
      "cell_type": "code",
      "source": [
        "#заменяем 'Площа кухні' на числовое значение\n",
        "\n",
        "df['Площа кухні'] = df['Площа кухні'].str.split(' м').str[0]\n",
        "df['Площа кухні'] = df['Площа кухні'].astype(float)\n",
        "# df['Площа кухні'] = df['Площа кухні'].fillna(df['Площа кухні'].mean())\n",
        "print(df['Площа кухні'].unique())"
      ],
      "metadata": {
        "colab": {
          "base_uri": "https://localhost:8080/"
        },
        "id": "mTfNy40yLoDq",
        "outputId": "75d8fbdd-2c73-460c-f59a-5cbd9b43313d"
      },
      "execution_count": null,
      "outputs": [
        {
          "output_type": "stream",
          "name": "stdout",
          "text": [
            "[ 6.    7.    9.    8.   12.5  10.   12.   15.   32.    4.   11.   16.\n",
            "  5.   25.    6.63 30.   17.    9.5   3.    8.4  28.   14.    1.   20.\n",
            " 50.   23.    6.5   4.5  13.    8.5  18.   46.   35.    2.   19.    7.8\n",
            " 22.    7.5   6.8   8.8   5.9  68.    8.2  29.    6.7  24.    6.6 ]\n"
          ]
        }
      ]
    },
    {
      "cell_type": "markdown",
      "source": [
        "####Додаткові данні"
      ],
      "metadata": {
        "id": "EaYUTUHxxY-g"
      }
    },
    {
      "cell_type": "code",
      "source": [
        "print(df['Меблювання'].unique())\n",
        "df['Меблювання'] = df['Меблювання'].str.lower().str.contains('з меблями')\n",
        "df['Меблювання'] = df['Меблювання'].fillna(0)\n",
        "df['Меблювання'] = df['Меблювання'].astype(int)\n",
        "print(df['Меблювання'].unique())"
      ],
      "metadata": {
        "colab": {
          "base_uri": "https://localhost:8080/"
        },
        "id": "p8t2kdq5suju",
        "outputId": "b54edbfe-7470-4f0d-abc8-911d2ebecd50"
      },
      "execution_count": null,
      "outputs": [
        {
          "output_type": "stream",
          "name": "stdout",
          "text": [
            "['З меблями' nan 'Без меблів']\n",
            "[1 0]\n"
          ]
        }
      ]
    },
    {
      "cell_type": "code",
      "source": [
        "df['Cанвузол'] = df['Cанвузол'].fillna(1)\n",
        "df['Cанвузол'] = df['Cанвузол'].replace('Суміжний', 1)\n",
        "df['Cанвузол'] = df['Cанвузол'].replace('Роздільний', 1)\n",
        "df['Cанвузол'] = df['Cанвузол'].replace('2 і більше', 2)\n",
        "df['Cанвузол'] = df['Cанвузол'].replace('Санвузол відсутній', 0)\n",
        "df['Cанвузол'] = df['Cанвузол'].astype(int)\n",
        "print(df['Cанвузол'].unique())"
      ],
      "metadata": {
        "colab": {
          "base_uri": "https://localhost:8080/"
        },
        "id": "QChjqD2kAcis",
        "outputId": "72f04c55-16a4-44ac-8c1c-b17a028c9527"
      },
      "execution_count": null,
      "outputs": [
        {
          "output_type": "stream",
          "name": "stdout",
          "text": [
            "[1 2 0]\n"
          ]
        }
      ]
    },
    {
      "cell_type": "code",
      "source": [
        "df['Домашні улюбленці'] = df['Домашні улюбленці'].str.lower().str.contains('так')\n",
        "df['Домашні улюбленці'] = df['Домашні улюбленці'].fillna(0)\n",
        "df['Домашні улюбленці'] = df['Домашні улюбленці'].astype(int)\n",
        "print(df['Домашні улюбленці'].unique())"
      ],
      "metadata": {
        "id": "_0wZph1hMQpa",
        "colab": {
          "base_uri": "https://localhost:8080/"
        },
        "outputId": "5a9b4cf5-d953-4221-f174-5d20e8686fb3"
      },
      "execution_count": null,
      "outputs": [
        {
          "output_type": "stream",
          "name": "stdout",
          "text": [
            "[0 1]\n"
          ]
        }
      ]
    },
    {
      "cell_type": "code",
      "source": [
        "df['Ландшафт (до 1 км.)'] = df['Ландшафт (до 1 км.)'].fillna(0)\n",
        "df['Ландшафт (до 1 км.)'] = df['Ландшафт (до 1 км.)'].astype(str)\n",
        "df['Ландшафт (до 1 км.)'] = df['Ландшафт (до 1 км.)'].str.split(', ').str.len()-1\n",
        "df['Ландшафт (до 1 км.)'] = df['Ландшафт (до 1 км.)'].astype(int)\n",
        "print(df['Ландшафт (до 1 км.)'].unique())"
      ],
      "metadata": {
        "id": "Ronxhv6OoVT0",
        "colab": {
          "base_uri": "https://localhost:8080/"
        },
        "outputId": "6fe86fc4-7c22-4b1b-8dcd-49758d358d55"
      },
      "execution_count": null,
      "outputs": [
        {
          "output_type": "stream",
          "name": "stdout",
          "text": [
            "[0 1 2 5 3]\n"
          ]
        }
      ]
    },
    {
      "cell_type": "code",
      "source": [
        "df['Інфраструктура (до 500 метрів)'] = df['Інфраструктура (до 500 метрів)'].fillna(0)\n",
        "df['Інфраструктура (до 500 метрів)'] = df['Інфраструктура (до 500 метрів)'].astype(str)\n",
        "df['Інфраструктура (до 500 метрів)'] = df['Інфраструктура (до 500 метрів)'].str.split(', ').str.len()-1\n",
        "df['Інфраструктура (до 500 метрів)'] = df['Інфраструктура (до 500 метрів)'].astype(int)\n",
        "print(df['Інфраструктура (до 500 метрів)'].unique())"
      ],
      "metadata": {
        "colab": {
          "base_uri": "https://localhost:8080/"
        },
        "id": "hULiu40VpmT0",
        "outputId": "3f5f33b7-c577-4f57-c569-016d2b3b935a"
      },
      "execution_count": null,
      "outputs": [
        {
          "output_type": "stream",
          "name": "stdout",
          "text": [
            "[13  6 19  7  9  0 14 15 11  3 12 10  8 16 20 21 22 17 23 18  2  1  5  4\n",
            " 24]\n"
          ]
        }
      ]
    },
    {
      "cell_type": "code",
      "source": [
        "df['Комунікації'] = df['Комунікації'].fillna(0)\n",
        "df['Комунікації'] = df['Комунікації'].astype(str)\n",
        "df['Комунікації'] = df['Комунікації'].str.split(', ').str.len()-1\n",
        "df['Комунікації'] = df['Комунікації'].astype(int)\n",
        "print(df['Комунікації'].unique())"
      ],
      "metadata": {
        "colab": {
          "base_uri": "https://localhost:8080/"
        },
        "id": "kAcAIfrd0BaQ",
        "outputId": "da129ead-236e-489a-9aaf-283192938d76"
      },
      "execution_count": null,
      "outputs": [
        {
          "output_type": "stream",
          "name": "stdout",
          "text": [
            "[5 4 3 1 0 6 2 7]\n"
          ]
        }
      ]
    },
    {
      "cell_type": "code",
      "source": [
        "df['Комфорт'] = df['Комфорт'].fillna(0)\n",
        "df['Комфорт'] = df['Комфорт'].astype(str)\n",
        "df['Комфорт'] = df['Комфорт'].str.split(', ').str.len()-1\n",
        "df['Комфорт'] = df['Комфорт'].astype(int)\n",
        "print(df['Комфорт'].unique())"
      ],
      "metadata": {
        "colab": {
          "base_uri": "https://localhost:8080/"
        },
        "id": "iNy8aQz70Q7k",
        "outputId": "eaec5a2e-e9d4-4a8b-e73f-6d9fb0186264"
      },
      "execution_count": null,
      "outputs": [
        {
          "output_type": "stream",
          "name": "stdout",
          "text": [
            "[ 3  8  7  4  0  1  2  5  6 10 12  9 11 13 14 15 25]\n"
          ]
        }
      ]
    },
    {
      "cell_type": "code",
      "source": [
        "df['Мультимедіа'] = df['Мультимедіа'].fillna(0)\n",
        "df['Мультимедіа'] = df['Мультимедіа'].astype(str)\n",
        "df['Мультимедіа'] = df['Мультимедіа'].str.split(', ').str.len()-1\n",
        "df['Мультимедіа'] = df['Мультимедіа'].astype(int)\n",
        "print(df['Мультимедіа'].unique())"
      ],
      "metadata": {
        "colab": {
          "base_uri": "https://localhost:8080/"
        },
        "id": "_Q7y4V-g0d_8",
        "outputId": "a70e6d83-0774-4868-955e-2e54591b3a5a"
      },
      "execution_count": null,
      "outputs": [
        {
          "output_type": "stream",
          "name": "stdout",
          "text": [
            "[2 1 0 4 3 5 6]\n"
          ]
        }
      ]
    },
    {
      "cell_type": "code",
      "source": [
        "df['Побутова техніка'] = df['Побутова техніка'].fillna(0)\n",
        "df['Побутова техніка'] = df['Побутова техніка'].astype(str)\n",
        "df['Побутова техніка'] = df['Побутова техніка'].str.split(', ').str.len()-1\n",
        "df['Побутова техніка'] = df['Побутова техніка'].astype(int)\n",
        "print(df['Побутова техніка'].unique())"
      ],
      "metadata": {
        "colab": {
          "base_uri": "https://localhost:8080/"
        },
        "id": "vnbMEJZ60y14",
        "outputId": "5f37fbc7-e0f9-415c-efa0-b571a0bc9286"
      },
      "execution_count": null,
      "outputs": [
        {
          "output_type": "stream",
          "name": "stdout",
          "text": [
            "[ 6  4  5  2  0  8  1  3  7  9 11 13 10 14]\n"
          ]
        }
      ]
    },
    {
      "cell_type": "markdown",
      "source": [
        "####Данні які важко обробити та малозаповнені данні (під видалення)"
      ],
      "metadata": {
        "id": "PukRZUTpxpg4"
      }
    },
    {
      "cell_type": "code",
      "source": [
        "print(df.isnull().sum())"
      ],
      "metadata": {
        "colab": {
          "base_uri": "https://localhost:8080/"
        },
        "id": "xr6iIwe1zn45",
        "outputId": "2ffaa148-1e5e-4fda-99ec-01078cbe806f"
      },
      "execution_count": null,
      "outputs": [
        {
          "output_type": "stream",
          "name": "stdout",
          "text": [
            "url                                  0\n",
            "title                                0\n",
            "price                                0\n",
            "city                                 0\n",
            "area                                 0\n",
            "Тип будинку                        960\n",
            "Поверх                               0\n",
            "Поверховість                         0\n",
            "Загальна площа                       0\n",
            "Площа кухні                          0\n",
            "Тип стін                           943\n",
            "Кількість кімнат                     0\n",
            "Cанвузол                             0\n",
            "Опалення                           825\n",
            "Ремонт                             802\n",
            "Меблювання                           0\n",
            "Побутова техніка                     0\n",
            "Мультимедіа                          0\n",
            "Комфорт                              0\n",
            "Комунікації                          0\n",
            "Інфраструктура (до 500 метрів)       0\n",
            "Планування                         899\n",
            "Ландшафт (до 1 км.)                  0\n",
            "Додатково                         1867\n",
            "Домашні улюбленці                    0\n",
            "dtype: int64\n"
          ]
        }
      ]
    },
    {
      "cell_type": "code",
      "source": [
        "print(df['Тип будинку'].unique())\n",
        "print(df['Тип стін'].unique())\n",
        "print(df['Планування'].unique())\n",
        "print(df['Опалення'].unique()) # Я думаю удалить\n",
        "print(df['Ремонт'].unique())\n",
        "print(df['Додатково'].unique())"
      ],
      "metadata": {
        "colab": {
          "base_uri": "https://localhost:8080/"
        },
        "id": "axm5Pi65tc2E",
        "outputId": "7a47105b-0997-4ae8-aabc-836ab1044654"
      },
      "execution_count": null,
      "outputs": [
        {
          "output_type": "stream",
          "name": "stdout",
          "text": [
            "['Хрущовка' 'Царський будинок' 'Чешка' nan 'Сталінка' 'Гостинка'\n",
            " 'Житловий фонд від 2011 р.' 'Житловий фонд 80-90-і'\n",
            " 'Житловий фонд 2001-2010-і' 'Житловий фонд 91-2000-і' 'Гуртожиток'\n",
            " 'Совмін']\n",
            "['Панельний' 'Цегляний' nan 'Шлакоблочний' 'Монолітний' 'Газоблок'\n",
            " \"Дерев'яний\" 'Інше']\n",
            "[nan 'Студія' 'Суміжна, прохідна' 'Роздільна' 'Вільне планування'\n",
            " 'Малосімейка, гостинка' 'Двостороння' 'Смарт-квартира' 'Пентхаус']\n",
            "['Централізоване' 'Індивідуальне газове' 'Індивідуальне електро' nan\n",
            " 'Власна котельня' 'Інше' 'Комбіноване' 'Твердопаливне' 'Тепловий насос']\n",
            "['Євроремонт' 'Авторський проект' 'Житловий стан' 'Косметичний ремонт' nan\n",
            " 'Під чистову обробку' 'Аварійний стан']\n",
            "[nan \"Тільки сім'ям\" 'Можна з дітьми' \"Тільки сім'ям, Можна з дітьми\"\n",
            " 'Можна іноземцям'\n",
            " 'Можна іноземцям, Можна курити, Можна студентам, Можна з дітьми, З господарями'\n",
            " \"Можна іноземцям, Тільки сім'ям, Можна студентам, Можна з дітьми\"\n",
            " \"Тільки сім'ям, Можна студентам, Можна з дітьми\" 'Можна студентам'\n",
            " \"Можна іноземцям, Тільки сім'ям, Можна студентам\"\n",
            " 'Можна студентам, Можна з дітьми'\n",
            " 'Можна студентам, Можна іноземцям, Можна з дітьми'\n",
            " \"Можна іноземцям, Тільки сім'ям, Можна курити, Можна студентам, Можна з дітьми\"\n",
            " 'Можна курити, Можна з дітьми'\n",
            " 'Можна іноземцям, Можна з дітьми, Можна курити'\n",
            " 'Можна іноземцям, Можна з дітьми' \"Тільки сім'ям, Можна студентам\"\n",
            " 'Можна іноземцям, Можна студентам'\n",
            " \"Тільки сім'ям, Можна курити, Можна з дітьми\"\n",
            " 'Можна курити, Можна студентам, Можна з дітьми'\n",
            " 'Можна іноземцям, Можна студентам, Можна з дітьми'\n",
            " 'Можна студентам, Можна з дітьми, Можна курити' 'Можна курити'\n",
            " \"Тільки сім'ям, Можна курити\"\n",
            " \"Можна іноземцям, Тільки сім'ям, Можна з дітьми\"\n",
            " 'Можна іноземцям, Можна курити, Можна студентам, Можна з дітьми'\n",
            " \"Можна з дітьми, Тільки сім'ям\"\n",
            " \"Тільки сім'ям, Можна з дітьми, З господарями\"\n",
            " 'Можна з дітьми, Можна курити']\n"
          ]
        }
      ]
    },
    {
      "cell_type": "code",
      "source": [
        "df=df.drop(columns=['url', 'city', 'Тип будинку', 'Тип стін', 'Планування', 'Опалення', 'Ремонт', 'Додатково'])"
      ],
      "metadata": {
        "id": "-0RnJtfdq3-3"
      },
      "execution_count": null,
      "outputs": []
    },
    {
      "cell_type": "markdown",
      "source": [
        "##Створення та навчання моделей"
      ],
      "metadata": {
        "id": "NliqYHyHopha"
      }
    },
    {
      "cell_type": "markdown",
      "source": [
        "###Розбиття данних на вибірки"
      ],
      "metadata": {
        "id": "5obQC6Yfoxdb"
      }
    },
    {
      "cell_type": "code",
      "source": [
        "from sklearn.model_selection import train_test_split\n",
        "# Выделите целевую переменную (цену) и признаки (все остальные столбцы)\n",
        "X = df.drop(['price', 'title', 'Cанвузол', 'Меблювання', 'Побутова техніка', 'Мультимедіа', 'Комфорт', 'Комунікації', 'Інфраструктура (до 500 метрів)', 'Ландшафт (до 1 км.)', 'Домашні улюбленці'], axis=1)\n",
        "y = df['price']\n",
        "# Разбейте данные на обучающую и тестовую выборки\n",
        "X_train, X_test, y_train, y_test = train_test_split(X, y, test_size=0.2, random_state=42)\n",
        "X.info()"
      ],
      "metadata": {
        "colab": {
          "base_uri": "https://localhost:8080/"
        },
        "id": "H9vRswQoZn6V",
        "outputId": "248d8a34-3dc6-4707-e614-5005da6ab5c4"
      },
      "execution_count": null,
      "outputs": [
        {
          "output_type": "stream",
          "name": "stdout",
          "text": [
            "<class 'pandas.core.frame.DataFrame'>\n",
            "Int64Index: 2263 entries, 0 to 2317\n",
            "Data columns (total 6 columns):\n",
            " #   Column            Non-Null Count  Dtype  \n",
            "---  ------            --------------  -----  \n",
            " 0   area              2263 non-null   int64  \n",
            " 1   Поверх            2263 non-null   int64  \n",
            " 2   Поверховість      2263 non-null   int64  \n",
            " 3   Загальна площа    2263 non-null   float64\n",
            " 4   Площа кухні       2263 non-null   float64\n",
            " 5   Кількість кімнат  2263 non-null   int64  \n",
            "dtypes: float64(2), int64(4)\n",
            "memory usage: 123.8 KB\n"
          ]
        }
      ]
    },
    {
      "cell_type": "markdown",
      "source": [
        "###Працюючі моделі"
      ],
      "metadata": {
        "id": "jSXxCb7Io-HU"
      }
    },
    {
      "cell_type": "code",
      "source": [
        "from sklearn.ensemble import GradientBoostingRegressor\n",
        "from sklearn.metrics import mean_absolute_error\n",
        "from sklearn.metrics import mean_squared_error\n",
        "from sklearn.metrics import r2_score\n",
        "import math\n",
        "\n",
        "# Создание модели градиентного бустинга\n",
        "gbr = GradientBoostingRegressor(n_estimators=550, learning_rate=0.2, max_depth=5, random_state=42)\n",
        "gbr.fit(X_train, y_train)\n",
        "\n",
        "# Предсказание цен на тестовых данных\n",
        "y_pred = gbr.predict(X_test)\n",
        "\n",
        "gbr_score={}\n",
        "gbr_score['R2'] = r2_score(y_test, y_pred)\n",
        "# Оценка качества модели\n",
        "print(\"R2 score:\", r2_score(y_test, y_pred))\n",
        "print(\"MAE:\", mean_absolute_error(y_test, y_pred))\n",
        "print(\"RMSE:\", math.sqrt(mean_squared_error(y_test, y_pred)))"
      ],
      "metadata": {
        "colab": {
          "base_uri": "https://localhost:8080/"
        },
        "id": "soKZontxEn9k",
        "outputId": "44712f62-d166-44eb-858d-e84f8a5bf3c9"
      },
      "execution_count": null,
      "outputs": [
        {
          "output_type": "stream",
          "name": "stdout",
          "text": [
            "R2 score: 0.8210847086358923\n",
            "MAE: 886.9204446354644\n",
            "RMSE: 1539.9894882910164\n"
          ]
        }
      ]
    },
    {
      "cell_type": "code",
      "source": [
        "from sklearn.ensemble import RandomForestRegressor\n",
        "from sklearn.metrics import mean_absolute_error\n",
        "from sklearn.metrics import mean_squared_error\n",
        "from sklearn.metrics import r2_score\n",
        "import math\n",
        "\n",
        "# Создание и обучение модели\n",
        "# rf = RandomForestRegressor(n_estimators=100, random_state=42)\n",
        "rf = RandomForestRegressor(random_state=42)\n",
        "rf.fit(X_train, y_train)\n",
        "\n",
        "# Прогнозирование цен на тестовом наборе данных\n",
        "y_pred = rf.predict(X_test)\n",
        "\n",
        "rf_score={}\n",
        "rf_score['R2'] = r2_score(y_test, y_pred)\n",
        "# Оценка качества модели\n",
        "print(\"R2 score:\", r2_score(y_test, y_pred))\n",
        "print(\"MAE:\", mean_absolute_error(y_test, y_pred))\n",
        "print(\"RMSE:\", math.sqrt(mean_squared_error(y_test, y_pred)))"
      ],
      "metadata": {
        "colab": {
          "base_uri": "https://localhost:8080/"
        },
        "id": "91DtpbwFC56x",
        "outputId": "ab4e9bc7-15f0-4432-907e-3eae20c9197b"
      },
      "execution_count": null,
      "outputs": [
        {
          "output_type": "stream",
          "name": "stdout",
          "text": [
            "R2 score: 0.8125298203489723\n",
            "MAE: 1011.4028541868361\n",
            "RMSE: 1576.3771252065517\n"
          ]
        }
      ]
    },
    {
      "cell_type": "code",
      "source": [
        "from sklearn.tree import DecisionTreeRegressor\n",
        "from sklearn.metrics import mean_absolute_error\n",
        "from sklearn.metrics import mean_squared_error\n",
        "from sklearn.metrics import r2_score\n",
        "import math\n",
        "\n",
        "# Обучаем модель на обучающей выборке\n",
        "dtr = DecisionTreeRegressor(random_state=42)\n",
        "dtr.fit(X_train, y_train)\n",
        "\n",
        "# Предсказываем значения для тестовой выборки\n",
        "y_pred = dtr.predict(X_test)\n",
        "\n",
        "dtr_score={}\n",
        "dtr_score['R2'] = r2_score(y_test, y_pred)\n",
        "# Оценка качества модели\n",
        "print(\"R2 score:\", r2_score(y_test, y_pred))\n",
        "print(\"MAE:\", mean_absolute_error(y_test, y_pred))\n",
        "print(\"RMSE:\", math.sqrt(mean_squared_error(y_test, y_pred)))"
      ],
      "metadata": {
        "colab": {
          "base_uri": "https://localhost:8080/"
        },
        "id": "eJuYW_q5CRzZ",
        "outputId": "4a5b1d80-52b7-4c16-8be2-4611728437c4"
      },
      "execution_count": null,
      "outputs": [
        {
          "output_type": "stream",
          "name": "stdout",
          "text": [
            "R2 score: 0.7620800408893398\n",
            "MAE: 825.9243053365569\n",
            "RMSE: 1775.8630239266677\n"
          ]
        }
      ]
    },
    {
      "cell_type": "markdown",
      "source": [
        "###Моделі з еффективністю менше 70%"
      ],
      "metadata": {
        "id": "rXMc1Q1mpdQD"
      }
    },
    {
      "cell_type": "code",
      "source": [
        "from sklearn.linear_model import LinearRegression\n",
        "from sklearn.metrics import mean_absolute_error\n",
        "from sklearn.metrics import mean_squared_error\n",
        "from sklearn.metrics import r2_score\n",
        "\n",
        "# Создайте объект модели линейной регрессии и обучите его на обучающих данных\n",
        "lr = LinearRegression()\n",
        "lr.fit(X_train, y_train)\n",
        "\n",
        "# Прогнозируем значения на тестовой выборке\n",
        "y_pred = lr.predict(X_test)\n",
        "\n",
        "# Оценка качества модели\n",
        "print(\"R2 score:\", r2_score(y_test, y_pred))\n",
        "print(\"MAE:\", mean_absolute_error(y_test, y_pred))\n",
        "print(\"MSE:\", mean_squared_error(y_test, y_pred))"
      ],
      "metadata": {
        "colab": {
          "base_uri": "https://localhost:8080/"
        },
        "id": "SkEYi0GxANNg",
        "outputId": "3d78c0c6-ac70-4605-c35d-fcc1c9e57696"
      },
      "execution_count": null,
      "outputs": [
        {
          "output_type": "stream",
          "name": "stdout",
          "text": [
            "R2 score: 0.38738716003829166\n",
            "MAE: 2207.513242147796\n",
            "MSE: 8120338.771781614\n"
          ]
        }
      ]
    },
    {
      "cell_type": "code",
      "source": [
        "from sklearn.preprocessing import StandardScaler\n",
        "from sklearn.linear_model import LinearRegression\n",
        "from sklearn.metrics import mean_absolute_error\n",
        "from sklearn.metrics import mean_squared_error\n",
        "from sklearn.metrics import r2_score\n",
        "\n",
        "\n",
        "# Масштабирование данных\n",
        "scaler = StandardScaler()\n",
        "X_train_scaled = scaler.fit_transform(X_train)\n",
        "X_test_scaled = scaler.transform(X_test)\n",
        "\n",
        "# Обучение модели множественной линейной регрессии\n",
        "lin_reg = LinearRegression()\n",
        "lin_reg.fit(X_train_scaled, y_train)\n",
        "\n",
        "# Сделать прогноз на тестовом наборе\n",
        "y_pred = lin_reg.predict(X_test_scaled)\n",
        "\n",
        "# Оценка качества модели\n",
        "print(\"R2 score:\", r2_score(y_test, y_pred))\n",
        "print(\"MAE:\", mean_absolute_error(y_test, y_pred))\n",
        "print(\"MSE:\", mean_squared_error(y_test, y_pred))"
      ],
      "metadata": {
        "colab": {
          "base_uri": "https://localhost:8080/"
        },
        "id": "xXm2s3r6IgCq",
        "outputId": "002a346b-5a8d-41b9-ab25-a279e517dd83"
      },
      "execution_count": null,
      "outputs": [
        {
          "output_type": "stream",
          "name": "stdout",
          "text": [
            "R2 score: 0.38738716003829166\n",
            "MAE: 2207.5132421477965\n",
            "MSE: 8120338.771781613\n"
          ]
        }
      ]
    },
    {
      "cell_type": "code",
      "source": [
        "from sklearn.preprocessing import StandardScaler\n",
        "from sklearn.svm import SVR\n",
        "\n",
        "from sklearn.metrics import mean_absolute_error\n",
        "from sklearn.metrics import mean_squared_error\n",
        "from sklearn.metrics import r2_score\n",
        "\n",
        "# Масштабирование данных\n",
        "scaler = StandardScaler()\n",
        "X_train_scaled = scaler.fit_transform(X_train)\n",
        "X_test_scaled = scaler.transform(X_test)\n",
        "\n",
        "# Обучение SVM модели\n",
        "svr = SVR(kernel='linear')\n",
        "svr.fit(X_train_scaled, y_train)\n",
        "\n",
        "# Сделать прогноз на тестовом наборе\n",
        "y_pred = svr.predict(X_test_scaled)\n",
        "\n",
        "# Оценка качества модели\n",
        "print(\"R2 score:\", r2_score(y_test, y_pred))\n",
        "print(\"MAE:\", mean_absolute_error(y_test, y_pred))\n",
        "print(\"MSE:\", mean_squared_error(y_test, y_pred))"
      ],
      "metadata": {
        "colab": {
          "base_uri": "https://localhost:8080/"
        },
        "id": "M1G9C_2_GN_B",
        "outputId": "7d6680ce-e3b7-4eae-c157-2650fb0a08b8"
      },
      "execution_count": null,
      "outputs": [
        {
          "output_type": "stream",
          "name": "stdout",
          "text": [
            "R2 score: 0.25680778308132746\n",
            "MAE: 2369.0487321701185\n",
            "MSE: 9851201.575057171\n"
          ]
        }
      ]
    },
    {
      "cell_type": "code",
      "source": [
        "from sklearn.kernel_ridge import KernelRidge\n",
        "\n",
        "from sklearn.metrics import mean_absolute_error\n",
        "from sklearn.metrics import mean_squared_error\n",
        "from sklearn.metrics import r2_score\n",
        "\n",
        "krr = KernelRidge(alpha=0.1)\n",
        "krr.fit(X_train, y_train)\n",
        "\n",
        "# Сделать прогноз на тестовом наборе\n",
        "y_pred = krr.predict(X_test)\n",
        "\n",
        "# Оценка качества модели\n",
        "print(\"R2 score:\", r2_score(y_test, y_pred))\n",
        "print(\"MAE:\", mean_absolute_error(y_test, y_pred))\n",
        "print(\"MSE:\", mean_squared_error(y_test, y_pred))"
      ],
      "metadata": {
        "colab": {
          "base_uri": "https://localhost:8080/"
        },
        "id": "RbFYNLTmNYSr",
        "outputId": "70b16393-76df-49d8-9075-ab523bbafffd"
      },
      "execution_count": null,
      "outputs": [
        {
          "output_type": "stream",
          "name": "stdout",
          "text": [
            "R2 score: 0.3862221718099176\n",
            "MAE: 2145.1544172407166\n",
            "MSE: 8135780.9866070915\n"
          ]
        }
      ]
    },
    {
      "cell_type": "code",
      "source": [
        "from sklearn.svm import SVC\n",
        "from sklearn.ensemble import BaggingClassifier\n",
        "\n",
        "bclf = BaggingClassifier(estimator=SVC(),n_estimators=100, random_state=0).fit(X_train, y_train)\n",
        "\n",
        "# Сделать прогноз на тестовом наборе\n",
        "y_pred = bclf.predict(X_test)\n",
        "\n",
        "# Оценка качества модели\n",
        "print(\"R2 score:\", r2_score(y_test, y_pred))\n",
        "print(\"MAE:\", mean_absolute_error(y_test, y_pred))\n",
        "print(\"MSE:\", mean_squared_error(y_test, y_pred))"
      ],
      "metadata": {
        "colab": {
          "base_uri": "https://localhost:8080/"
        },
        "id": "PE9JjmdqQYOZ",
        "outputId": "6b7e4a5d-b020-43b4-8585-b96b67c2efd0"
      },
      "execution_count": null,
      "outputs": [
        {
          "output_type": "stream",
          "name": "stdout",
          "text": [
            "R2 score: 0.18646634964278863\n",
            "MAE: 2370.551876379691\n",
            "MSE: 10783595.139072848\n"
          ]
        }
      ]
    },
    {
      "cell_type": "code",
      "source": [
        "from sklearn.gaussian_process import GaussianProcessRegressor\n",
        "from sklearn.gaussian_process.kernels import DotProduct, WhiteKernel\n",
        "\n",
        "kernel = DotProduct() + WhiteKernel()\n",
        "gpr = GaussianProcessRegressor(kernel=kernel, random_state=0).fit(X_train, y_train)\n",
        "\n",
        "# Сделать прогноз на тестовом наборе\n",
        "y_pred = gpr.predict(X_test)\n",
        "\n",
        "# Оценка качества модели\n",
        "print(\"R2 score:\", r2_score(y_test, y_pred))\n",
        "print(\"MAE:\", mean_absolute_error(y_test, y_pred))\n",
        "print(\"MSE:\", mean_squared_error(y_test, y_pred))"
      ],
      "metadata": {
        "colab": {
          "base_uri": "https://localhost:8080/"
        },
        "id": "yEOfVaBESX7i",
        "outputId": "e529bb8b-36ca-439a-8d5c-5c8293df63b5"
      },
      "execution_count": null,
      "outputs": [
        {
          "output_type": "stream",
          "name": "stdout",
          "text": [
            "R2 score: 0.348024432480896\n",
            "MAE: 2292.8538754650826\n",
            "MSE: 8642101.722044583\n"
          ]
        }
      ]
    },
    {
      "cell_type": "code",
      "source": [
        "from sklearn.neural_network import MLPClassifier\n",
        "\n",
        "y_pred = MLPClassifier(solver='lbfgs', alpha=1e-5, hidden_layer_sizes=(12, 4), random_state=1).fit(X_train, y_train).predict(X_test)\n",
        "\n",
        "# Оценка качества модели\n",
        "print(\"R2 score:\", r2_score(y_test, y_pred))\n",
        "print(\"MAE:\", mean_absolute_error(y_test, y_pred))\n",
        "print(\"MSE:\", mean_squared_error(y_test, y_pred))"
      ],
      "metadata": {
        "colab": {
          "base_uri": "https://localhost:8080/"
        },
        "id": "tVttrVlce3c_",
        "outputId": "ab480dd5-8fee-42ab-bedf-f40a6da9c7de"
      },
      "execution_count": null,
      "outputs": [
        {
          "output_type": "stream",
          "name": "stdout",
          "text": [
            "R2 score: 0.3400723136041053\n",
            "MAE: 2232.5121412803533\n",
            "MSE: 8747509.077262694\n"
          ]
        }
      ]
    },
    {
      "cell_type": "markdown",
      "source": [
        "##Передбачення за допомогою моделі"
      ],
      "metadata": {
        "id": "b3FZFPW64SsV"
      }
    },
    {
      "cell_type": "code",
      "source": [
        "import numpy as np\n",
        "import warnings\n",
        "from sklearn.exceptions import DataConversionWarning\n",
        "warnings.filterwarnings(action='ignore', category=UserWarning)\n",
        "\n",
        "\n",
        "data = np.array(pred_data).reshape(1, -1)\n",
        "# data = {'area': 6,' Поверх': 5, 'Поверховість': 9, 'Загальна площа': 35, 'Площа кухні':9, 'Кількість кімнат': 1}.reshape(-1,1)\n",
        "if (gbr_score['R2'] > rf_score['R2']) and (gbr_score['R2'] > dtr_score['R2']):\n",
        "  print(\"Найкраща модель передбачення GradientBoostingRegressor\")\n",
        "  print(f\"Передбачена моделлю ціна - {gbr.predict(data)[0].round(1)}\")\n",
        "if (rf_score['R2'] > gbr_score['R2']) and (rf_score['R2'] > dtr_score['R2']):\n",
        "  print(\"Найкраща модель передбачення RandomForestRegressor\")\n",
        "  print(f\"Передбачена моделлю ціна - {rf.predict(data)[0].round(1)}\")\n",
        "if (dtr_score['R2'] > gbr_score['R2']) and (dtr_score['R2'] > rf_score['R2']):\n",
        "  print(\"Найкраща модель передбачення DecisionTreeRegressor\")\n",
        "  print(f\"Передбачена моделлю ціна - {dtr.predict(data)[0].round(1)}\")"
      ],
      "metadata": {
        "colab": {
          "base_uri": "https://localhost:8080/"
        },
        "id": "-g8BcJAB4yln",
        "outputId": "f836b9d6-284a-43cb-9046-19c9046c0acc"
      },
      "execution_count": null,
      "outputs": [
        {
          "output_type": "stream",
          "name": "stdout",
          "text": [
            "Найкраща модель передбачення GradientBoostingRegressor\n",
            "Передбачена моделлю ціна - 3372.2\n"
          ]
        }
      ]
    }
  ],
  "metadata": {
    "colab": {
      "provenance": [],
      "collapsed_sections": [
        "EaYUTUHxxY-g",
        "PukRZUTpxpg4",
        "rXMc1Q1mpdQD"
      ],
      "mount_file_id": "1ehMfnYDnPKjhfEQfzLJebDOOI1huPUAj",
      "authorship_tag": "ABX9TyNPAJgM6vU31HHLZ0RwH0BP",
      "include_colab_link": true
    },
    "kernelspec": {
      "display_name": "Python 3",
      "name": "python3"
    },
    "language_info": {
      "name": "python"
    }
  },
  "nbformat": 4,
  "nbformat_minor": 0
}